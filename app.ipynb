{
 "cells": [
  {
   "cell_type": "code",
   "execution_count": null,
   "id": "028e8ed9-c23f-4503-ae24-88e0bee57882",
   "metadata": {},
   "outputs": [],
   "source": [
    "print(\"voici ma premiere version ipnb\")"
   ]
  },
  {
   "cell_type": "code",
   "execution_count": null,
   "id": "16246098-606a-4d31-ab28-417f881d5bac",
   "metadata": {},
   "outputs": [],
   "source": [
    "print(\"avec ipnb\")"
   ]
  }
 ],
 "metadata": {
  "kernelspec": {
   "display_name": "Python 3",
   "language": "python",
   "name": "python3"
  },
  "language_info": {
   "codemirror_mode": {
    "name": "ipython",
    "version": 3
   },
   "file_extension": ".py",
   "mimetype": "text/x-python",
   "name": "python",
   "nbconvert_exporter": "python",
   "pygments_lexer": "ipython3",
   "version": "3.8.8"
  }
 },
 "nbformat": 4,
 "nbformat_minor": 5
}
